{
 "cells": [
  {
   "cell_type": "markdown",
   "metadata": {},
   "source": [
    "<center>\n",
    "In the name of God\n",
    "<br>\n",
    "<h3>Computer Programming Course</h3>\n",
    "\n",
    "<br>\n",
    "Dr. Naimeh Sadeghi\n",
    "<br>\n",
    "Email: naima.sadeghi@gmail.com\n",
    "<br>\n",
    "<br>\n",
    "<img src=\"./Figures/kntu.PNG\" width=\"50px\" height=\"50px\"/> \n",
    "<br>\n",
    "K. N. Toosi University of Technology\n",
    "<br>\n",
    "1402-1403\n",
    "<br>\n",
    "\n",
    "\n",
    "</center>\n"
   ]
  },
  {
   "cell_type": "markdown",
   "metadata": {},
   "source": [
    "# Introduction to HTML"
   ]
  },
  {
   "cell_type": "markdown",
   "metadata": {},
   "source": [
    "https://www.w3schools.com/html\n",
    "\n",
    " 1. HTML Home\n",
    " 2. HTML Introduction\n",
    " 3. HTML Editors\n",
    " 4. HTML Elements\n",
    " 5. HTML Page Title\n",
    " 6. HTML Headings\n",
    " 7. HTML Lists\n"
   ]
  },
  {
   "cell_type": "markdown",
   "metadata": {},
   "source": [
    "### Class Exe: \n",
    "Create a very simple CV "
   ]
  },
  {
   "cell_type": "markdown",
   "metadata": {},
   "source": [
    "*******************\n",
    " 8. HTML images\n",
    " 9. HTML hyperlinks\n",
    "10. HTML file paths"
   ]
  },
  {
   "cell_type": "markdown",
   "metadata": {},
   "source": [
    "### Class Exe.\n",
    "* Add your image to your CV\n",
    "* Add hyperlinks so that your CV is linked to the university website\n",
    "* Use numbered list to add your faverite websites to your CV and make a link to them\n"
   ]
  },
  {
   "cell_type": "markdown",
   "metadata": {},
   "source": [
    "**********************\n",
    "11. HTML attributes\n",
    "12. HTML comments\n",
    "### Mini Project (Group Assignment)\n",
    "Option 1:\n",
    "Create a webpage showcasing your preferred images. Implement interactivity by displaying descriptions when users hover over each image using the title attribute. Ensure the webpage is visually appealing and accessible to all users.\n",
    "\n",
    "Option 2 (Extra Marks):\n",
    "Enhance the webpage with an image map featuring clickable sections, each providing additional information or leading to different content. \n",
    "Hint: https://www.w3schools.com/html/html_images_imagemap.asp\n",
    "\n",
    "Hosting:\n",
    "After completing your webpage, host it on a free web hosting website and provide the final address (URL) to your site. You can use platforms such as: GitHub Pages, Netlify, 000webhost or W3Schools Space.\n",
    "Provide the final URL "
   ]
  },
  {
   "cell_type": "markdown",
   "metadata": {},
   "source": [
    "**********************\n",
    "13. CSS Styles\n",
    "\n",
    "### Class Exe. \n",
    "Add background, color and padding to your CV file"
   ]
  },
  {
   "cell_type": "markdown",
   "metadata": {},
   "source": [
    "**************************\n",
    "14. HTML div\n",
    "15. HTML Class attribute\n",
    "16. HTM id attribute\n"
   ]
  }
 ],
 "metadata": {
  "kernelspec": {
   "display_name": "Python 3",
   "language": "python",
   "name": "python3"
  },
  "language_info": {
   "codemirror_mode": {
    "name": "ipython",
    "version": 3
   },
   "file_extension": ".py",
   "mimetype": "text/x-python",
   "name": "python",
   "nbconvert_exporter": "python",
   "pygments_lexer": "ipython3",
   "version": "3.11.3"
  }
 },
 "nbformat": 4,
 "nbformat_minor": 2
}
