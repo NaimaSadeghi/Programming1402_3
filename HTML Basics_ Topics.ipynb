{
 "cells": [
  {
   "cell_type": "markdown",
   "metadata": {},
   "source": [
    "<center>\n",
    "In the name of God\n",
    "<br>\n",
    "<h3>Computer Programming Course</h3>\n",
    "<br>\n",
    "<img src=\"./Figures/kntu.png\" width=\"50px\" height=\"50px\"/> \n",
    "<br>\n",
    "K. N. Toosi University of Technology\n",
    "<br>\n",
    "1402-1403\n",
    "<br>\n",
    "\n",
    "\n",
    "</center>\n"
   ]
  },
  {
   "cell_type": "markdown",
   "metadata": {},
   "source": [
    "# Introduction to HTML"
   ]
  },
  {
   "cell_type": "markdown",
   "metadata": {},
   "source": [
    "https://www.w3schools.com/html\n",
    "\n",
    " 1. HTML Home\n",
    " 2. HTML Introduction\n",
    " 3. HTML Editors\n",
    " 4. HTML Elements\n",
    " 5. HTML Page Title\n",
    " 6. HTML Headings\n",
    " 7. HTML Lists\n"
   ]
  },
  {
   "cell_type": "markdown",
   "metadata": {},
   "source": [
    "### Class Exe: \n",
    "Create a very simple CV "
   ]
  },
  {
   "cell_type": "markdown",
   "metadata": {},
   "source": [
    "*******************\n",
    " 8. HTML images\n",
    " 9. HTML hyperlinks\n",
    "10. HTML file paths"
   ]
  },
  {
   "cell_type": "markdown",
   "metadata": {},
   "source": [
    "### Class Exe.\n",
    "* Add your image to your CV\n",
    "* Add hyperlinks so that your CV is linked to the university website\n",
    "* Use numbered list to add your faverite websites to your CV and make a link to them\n"
   ]
  },
  {
   "cell_type": "markdown",
   "metadata": {},
   "source": [
    "**********************\n",
    "11. HTML attributes\n",
    "12. HTML comments\n"
   ]
  }
 ],
 "metadata": {
  "kernelspec": {
   "display_name": "Python 3",
   "language": "python",
   "name": "python3"
  },
  "language_info": {
   "codemirror_mode": {
    "name": "ipython",
    "version": 3
   },
   "file_extension": ".py",
   "mimetype": "text/x-python",
   "name": "python",
   "nbconvert_exporter": "python",
   "pygments_lexer": "ipython3",
   "version": "3.11.3"
  }
 },
 "nbformat": 4,
 "nbformat_minor": 2
}
