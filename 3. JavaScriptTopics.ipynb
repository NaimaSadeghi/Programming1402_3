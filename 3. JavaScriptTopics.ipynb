{
 "cells": [
  {
   "cell_type": "markdown",
   "metadata": {},
   "source": [
    "<center>\n",
    "In the name of God\n",
    "<br>\n",
    "<h3>Computer Programming Course</h3>\n",
    "\n",
    "<br>\n",
    "Dr. Naimeh Sadeghi\n",
    "<br>\n",
    "Email: naima.sadeghi@gmail.com\n",
    "<br>\n",
    "<br>\n",
    "<img src=\"./Figures/kntu.png\" width=\"50px\" height=\"50px\"/> \n",
    "<br>\n",
    "K. N. Toosi University of Technology\n",
    "<br>\n",
    "1402-1403\n",
    "<br>\n",
    "\n",
    "\n",
    "</center>"
   ]
  },
  {
   "cell_type": "markdown",
   "metadata": {},
   "source": [
    "# JavaScript Topics\n",
    "* Writing into an HTML element, using innerHTML:        \n",
    "https://www.w3schools.com/js/js_output.asp\n",
    "\n",
    "* Onclick:   \n",
    "https://www.w3schools.com/jsref/event_onclick.asp\n",
    "\n",
    "* Variables:            \n",
    "https://www.w3schools.com/js/js_variables.asp\n",
    "\n",
    "* Numbers:      \n",
    "https://www.w3schools.com/jsref/jsref_obj_number.asp\n",
    "\n",
    "* Eval:      \n",
    "https://www.w3schools.com/jsref/jsref_eval.asp\n",
    "\n",
    "* parseInt:     \n",
    "https://www.w3schools.com/jsref/jsref_parseint.asp\n"
   ]
  }
 ],
 "metadata": {
  "kernelspec": {
   "display_name": "Python 3",
   "language": "python",
   "name": "python3"
  },
  "language_info": {
   "codemirror_mode": {
    "name": "ipython",
    "version": 3
   },
   "file_extension": ".py",
   "mimetype": "text/x-python",
   "name": "python",
   "nbconvert_exporter": "python",
   "pygments_lexer": "ipython3",
   "version": "3.11.3"
  }
 },
 "nbformat": 4,
 "nbformat_minor": 2
}
