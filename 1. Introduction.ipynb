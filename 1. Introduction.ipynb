{
 "cells": [
  {
   "cell_type": "markdown",
   "metadata": {},
   "source": [
    "<center>\n",
    "In the name of God\n",
    "<br>\n",
    "<h3>Computer Programming Course</h3>\n",
    "\n",
    "<br>\n",
    "Dr. Naimeh Sadeghi\n",
    "<br>\n",
    "Email: naima.sadeghi@gmail.com\n",
    "<br>\n",
    "<br>\n",
    "<img src=\"./Figures/kntu.PNG\" width=\"50px\" height=\"50px\"/> \n",
    "<br>\n",
    "K. N. Toosi University of Technology\n",
    "<br>\n",
    "1402-1403\n",
    "<br>\n",
    "\n",
    "\n",
    "</center>\n",
    "\n"
   ]
  },
  {
   "cell_type": "markdown",
   "metadata": {},
   "source": [
    "<h1> Introduction </h1>"
   ]
  },
  {
   "cell_type": "markdown",
   "metadata": {},
   "source": [
    "## Course Objectives\n",
    "* Learning computational thinking\n",
    "* Learning one programming language\n",
    "* Learning to develop simple practical projects"
   ]
  },
  {
   "cell_type": "markdown",
   "metadata": {},
   "source": [
    "## Programming languages\n",
    "* Javascript is the most popular programming language\n",
    "* HTML /CSS"
   ]
  },
  {
   "cell_type": "markdown",
   "metadata": {},
   "source": [
    "## Code of Conduct\n",
    "* Class starts from 10:40\n",
    "* Late arrival--> Cookies, or icecream\n",
    "* Everyone should bring laptop, failing to bring laptop or absence -0.25\n",
    "* +2 points class activity\n",
    "* You can drink water or coffee but no sandwich or fruits or rice\n",
    "* No mobile in class\n"
   ]
  },
  {
   "cell_type": "markdown",
   "metadata": {},
   "source": [
    "## Grading\n",
    "* Homeworks and TA classes: 4 points\n",
    "* Projects: \n",
    "    - Midterm project: 2 points\n",
    "    - Final project: 2 points\n",
    "* Midterm Exam: 4 points\n",
    "* Final Exam: 8 points\n",
    "* 2 points class activity\n"
   ]
  },
  {
   "cell_type": "markdown",
   "metadata": {},
   "source": [
    "## References\n",
    "* Jupyter notebooks Written in Class and uploaded to VC\n",
    "* W3School\n",
    "* MIT book on VC"
   ]
  },
  {
   "cell_type": "markdown",
   "metadata": {},
   "source": [
    "## Developing your CV\n",
    "#### HTML Code:\n",
    "```html\n",
    "<!DOCTYPE html>\n",
    "<html>\n",
    "    <head>\n",
    "        <title>My CV</title>\n",
    "    </head>\n",
    "    <body>\n",
    "\n",
    "        <h1>Naimeh Sadeghi</h1>\n",
    "        <p>She is a assistant professor in \n",
    "            K. N. Toosi University of Technology</p>\n",
    "        \n",
    "        <h2> Education</h2>\n",
    "        <ul>\n",
    "            <li>High School Diploma,\n",
    "                <br>\n",
    "                Shahed School GPA:17.0</li>\n",
    "            <li>Middle School<br> GPA: 19.01</li>\n",
    "        </ul>\n",
    "        \n",
    "        <h2 dir=\"rtl\">زبان </h2>\n",
    "        <ul  dir=\"rtl\">\n",
    "            <li>\n",
    "                فارسی: عالی\n",
    "            </li>\n",
    "            <li>\n",
    "                عربی: کم\n",
    "            </li>\n",
    "            <li>\n",
    "                انگلیسی: متوسط\n",
    "            </li>\n",
    "        </ul>\n",
    "    \n",
    "    </body>\n",
    "</html>\n",
    "```\n",
    "\n"
   ]
  },
  {
   "cell_type": "markdown",
   "metadata": {},
   "source": [
    "## HTML tags for assignment\n",
    "* !DOCTYPE html: defines html document\n",
    "\n",
    "* body: all html content should go in body\n",
    "* head: includes title tag to show the title of the web-page\n",
    "* h1: the biggest font, used for title\n",
    "* h2: the next biggest font\n",
    "* p: define a paragraph\n",
    "* ul: defines a list\n",
    "* li: defines each item in the list\n",
    "* You can add attributes for each html tag: for example \"rtl\"\n",
    "* br: shows a new line, no closing tag is needed "
   ]
  }
 ],
 "metadata": {
  "kernelspec": {
   "display_name": "Python 3 (ipykernel)",
   "language": "python",
   "name": "python3"
  },
  "language_info": {
   "codemirror_mode": {
    "name": "ipython",
    "version": 3
   },
   "file_extension": ".py",
   "mimetype": "text/x-python",
   "name": "python",
   "nbconvert_exporter": "python",
   "pygments_lexer": "ipython3",
   "version": "3.11.3"
  }
 },
 "nbformat": 4,
 "nbformat_minor": 4
}
